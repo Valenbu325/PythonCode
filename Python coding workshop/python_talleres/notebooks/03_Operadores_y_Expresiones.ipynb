{
 "cells": [
  {
   "cell_type": "markdown",
   "metadata": {},
   "source": [
    "# 3) Operadores y expresiones\n",
    "\n",
    "## ¿Qué son?\n",
    "Los **operadores** combinan valores para producir un resultado (*expresiones*).\n",
    "\n",
    "## ¿Para qué se usan?\n",
    "Para **calcular, comparar y tomar decisiones**. Son la base de toda lógica.\n",
    "\n",
    "## Familias principales\n",
    "- Aritméticos: `+ - * / // % **`\n",
    "- Comparación: `== != > < >= <=`\n",
    "- Lógicos: `and or not`\n",
    "- Precedencia: paréntesis > potencias > multiplicación/división > suma/resta\n"
   ]
  },
  {
   "cell_type": "code",
   "execution_count": null,
   "metadata": {},
   "outputs": [],
   "source": [
    "a, b = 10, 3\n",
    "print(\"Aritméticos:\", a + b, a - b, a * b, a / b, a // b, a % b, a ** b)\n",
    "print(\"Comparación:\", a == b, a != b, a > b, a <= b)\n",
    "x, y = True, False\n",
    "print(\"Lógicos:\", x and y, x or y, not x)\n"
   ]
  },
  {
   "cell_type": "markdown",
   "metadata": {},
   "source": [
    "### Ejercicios\n",
    "- E1: Área de un círculo con `pi=3.14159` y radio fijo.\n",
    "- E2: Verifica si un número es múltiplo de 3 y 5.\n",
    "- E3: Evalúa si una edad está en el rango 18–65.\n",
    "\n",
    "### Reto extra\n",
    "Calculadora por consola que reciba `a`, `b` y una operación, y muestre el resultado.\n"
   ]
  },
  {
   "cell_type": "markdown",
   "id": "9d100ea9",
   "metadata": {},
   "source": [
    "#### Ejercicio 1"
   ]
  },
  {
   "cell_type": "code",
   "execution_count": 8,
   "id": "df213d82",
   "metadata": {},
   "outputs": [
    {
     "name": "stdout",
     "output_type": "stream",
     "text": [
      "Área del círculo con radio 5: 78.53975\n"
     ]
    }
   ],
   "source": [
    "\n",
    "pi = 3.14159\n",
    "radio = 5 \n",
    "area = pi * radio ** 2\n",
    "print(f\"Área del círculo con radio {radio}: {area}\")"
   ]
  },
  {
   "cell_type": "markdown",
   "id": "49e7272a",
   "metadata": {},
   "source": [
    "#### Ejercicio 2"
   ]
  },
  {
   "cell_type": "code",
   "execution_count": 7,
   "id": "270b99d3",
   "metadata": {},
   "outputs": [
    {
     "name": "stdout",
     "output_type": "stream",
     "text": [
      "El número 15 es múltiplo de 3: True\n",
      "El número 15 es múltiplo de 5: True\n",
      "El número 15 es múltiplo de 3 Y 5: True\n"
     ]
    }
   ],
   "source": [
    "\n",
    "numero = 15\n",
    "es_multiplo_3 = numero % 3 == 0\n",
    "es_multiplo_5 = numero % 5 == 0\n",
    "es_multiplo_ambos = es_multiplo_3 and es_multiplo_5\n",
    "\n",
    "print(f\"El número {numero} es múltiplo de 3: {es_multiplo_3}\")\n",
    "print(f\"El número {numero} es múltiplo de 5: {es_multiplo_5}\")\n",
    "print(f\"El número {numero} es múltiplo de 3 Y 5: {es_multiplo_ambos}\")"
   ]
  },
  {
   "cell_type": "markdown",
   "id": "a4f80f5c",
   "metadata": {},
   "source": [
    "#### Ejercicio 3"
   ]
  },
  {
   "cell_type": "code",
   "execution_count": 6,
   "id": "d392ffda",
   "metadata": {},
   "outputs": [
    {
     "name": "stdout",
     "output_type": "stream",
     "text": [
      "La edad 25 está en el rango 18-65: True\n"
     ]
    }
   ],
   "source": [
    "\n",
    "edad = 25\n",
    "en_rango = edad >= 18 and edad <= 65\n",
    "\n",
    "print(f\"La edad {edad} está en el rango 18-65: {en_rango}\")"
   ]
  },
  {
   "cell_type": "markdown",
   "id": "0ed2bb4f",
   "metadata": {},
   "source": [
    "#### Ejercicio extra"
   ]
  },
  {
   "cell_type": "code",
   "execution_count": null,
   "metadata": {},
   "outputs": [
    {
     "name": "stdout",
     "output_type": "stream",
     "text": [
      "Calculadora Simple\n",
      "Resultado: 10.0\n",
      "Resultado: 10.0\n"
     ]
    }
   ],
   "source": [
    "\n",
    "print(\"Calculadora Simple\")\n",
    "\n",
    "a = float(input(\"Primer número: \"))\n",
    "b = float(input(\"Segundo número: \"))\n",
    "operacion = input(\"Operación (+, -, *, /): \")\n",
    "\n",
    "if operacion == \"+\":\n",
    "    print(f\"Resultado: {a + b}\")\n",
    "elif operacion == \"-\":\n",
    "    print(f\"Resultado: {a - b}\")\n",
    "elif operacion == \"*\":\n",
    "    print(f\"Resultado: {a * b}\")\n",
    "elif operacion == \"/\":\n",
    "    print(f\"Resultado: {a / b}\")\n",
    "else:\n",
    "    print(\"Operación no válida\")"
   ]
  }
 ],
 "metadata": {
  "kernelspec": {
   "display_name": "Python 3",
   "language": "python",
   "name": "python3"
  },
  "language_info": {
   "codemirror_mode": {
    "name": "ipython",
    "version": 3
   },
   "file_extension": ".py",
   "mimetype": "text/x-python",
   "name": "python",
   "nbconvert_exporter": "python",
   "pygments_lexer": "ipython3",
   "version": "3.13.3"
  }
 },
 "nbformat": 4,
 "nbformat_minor": 5
}
