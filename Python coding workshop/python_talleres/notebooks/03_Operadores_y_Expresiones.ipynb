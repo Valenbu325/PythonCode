{
 "cells": [
  {
   "cell_type": "markdown",
   "metadata": {},
   "source": [
    "# 3) Operadores y expresiones\n",
    "\n",
    "## ¿Qué son?\n",
    "Los **operadores** combinan valores para producir un resultado (*expresiones*).\n",
    "\n",
    "## ¿Para qué se usan?\n",
    "Para **calcular, comparar y tomar decisiones**. Son la base de toda lógica.\n",
    "\n",
    "## Familias principales\n",
    "- Aritméticos: `+ - * / // % **`\n",
    "- Comparación: `== != > < >= <=`\n",
    "- Lógicos: `and or not`\n",
    "- Precedencia: paréntesis > potencias > multiplicación/división > suma/resta\n"
   ]
  },
  {
   "cell_type": "code",
   "execution_count": null,
   "metadata": {},
   "outputs": [],
   "source": [
    "a, b = 10, 3\n",
    "print(\"Aritméticos:\", a + b, a - b, a * b, a / b, a // b, a % b, a ** b)\n",
    "print(\"Comparación:\", a == b, a != b, a > b, a <= b)\n",
    "x, y = True, False\n",
    "print(\"Lógicos:\", x and y, x or y, not x)\n"
   ]
  },
  {
   "cell_type": "markdown",
   "metadata": {},
   "source": [
    "### Ejercicios\n",
    "- E1: Área de un círculo con `pi=3.14159` y radio fijo.\n",
    "- E2: Verifica si un número es múltiplo de 3 y 5.\n",
    "- E3: Evalúa si una edad está en el rango 18–65.\n",
    "\n",
    "### Reto extra\n",
    "Calculadora por consola que reciba `a`, `b` y una operación, y muestre el resultado.\n"
   ]
  },
  {
   "cell_type": "code",
   "execution_count": null,
   "metadata": {},
   "outputs": [],
   "source": [
    "# Pista: calculadora básica\n",
    "a, b, op = 12, 5, \"*\"\n",
    "if op == \"+\":\n",
    "    print(a + b)\n",
    "elif op == \"-\":\n",
    "    print(a - b)\n",
    "elif op == \"*\":\n",
    "    print(a * b)\n",
    "elif op == \"/\":\n",
    "    print(a / b)\n",
    "elif op == \"//\":\n",
    "    print(a // b)\n",
    "elif op == \"%\":\n",
    "    print(a % b)\n",
    "elif op == \"**\":\n",
    "    print(a ** b)\n",
    "else:\n",
    "    print(\"Operación no reconocida\")\n"
   ]
  },
  {
   "cell_type": "markdown",
   "id": "4a65bfca",
   "metadata": {},
   "source": [
    "#### Ejercicio 1\n"
   ]
  },
  {
   "cell_type": "code",
   "execution_count": 1,
   "id": "29957027",
   "metadata": {},
   "outputs": [
    {
     "name": "stdout",
     "output_type": "stream",
     "text": [
      "El área del círculo con radio 5 es: 78.54\n"
     ]
    }
   ],
   "source": [
    "# E1: Área de un círculo\n",
    "pi = 3.14159\n",
    "radio = 5  # Radio fijo\n",
    "\n",
    "area = pi * (radio ** 2)\n",
    "print(f\"El área del círculo con radio {radio} es: {area:.2f}\")"
   ]
  },
  {
   "cell_type": "markdown",
   "id": "185ce3bd",
   "metadata": {},
   "source": [
    "#### Ejercicio 2\n"
   ]
  },
  {
   "cell_type": "code",
   "execution_count": null,
   "id": "849f1477",
   "metadata": {},
   "outputs": [],
   "source": [
    "multiplo = int(input(\"Ingrese un número entre 1 y 100: \"))\n",
    "\n",
    "# Validar que el número esté en el rango\n",
    "if multiplo < 1 or multiplo > 100:\n",
    "    print(\"El número debe estar entre 1 y 100.\")\n",
    "else:\n",
    "    if multiplo % 5 == 0 and multiplo % 3 == 0:\n",
    "        print(\"Es múltiplo de 5 y 3\")\n",
    "    elif multiplo % 5 == 0:\n",
    "        print(\"Es múltiplo de 5\")\n",
    "    elif multiplo % 3 == 0:\n",
    "        print(\"Es múltiplo de 3\")\n",
    "    else:\n",
    "        print(\"No es múltiplo de 5 ni de 3\")"
   ]
  }
 ],
 "metadata": {
  "kernelspec": {
   "display_name": ".venv (3.10.6)",
   "language": "python",
   "name": "python3"
  },
  "language_info": {
   "codemirror_mode": {
    "name": "ipython",
    "version": 3
   },
   "file_extension": ".py",
   "mimetype": "text/x-python",
   "name": "python",
   "nbconvert_exporter": "python",
   "pygments_lexer": "ipython3",
   "version": "3.10.6"
  }
 },
 "nbformat": 4,
 "nbformat_minor": 5
}
