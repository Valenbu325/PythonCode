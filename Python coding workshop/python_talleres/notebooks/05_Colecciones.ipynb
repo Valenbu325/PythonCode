{
 "cells": [
  {
   "cell_type": "markdown",
   "metadata": {},
   "source": [
    "# 5) Colecciones: listas, tuplas y diccionarios\n",
    "\n",
    "## ¿Qué son?\n",
    "Estructuras para **agrupar datos**: secuencias (`list`, `tuple`) y mapeos (`dict`).\n",
    "\n",
    "## ¿Para qué se usan?\n",
    "Para **organizar, acceder y transformar** conjuntos de valores.\n",
    "\n",
    "## Puntos clave\n",
    "- `list` (mutable) — métodos como `append`, `pop`, `sort`.\n",
    "- `tuple` (inmutable) — útil para datos que no cambian.\n",
    "- `dict` (clave→valor) — acceso por clave y métodos `.items()`, `.keys()`.\n"
   ]
  },
  {
   "cell_type": "code",
   "execution_count": null,
   "metadata": {},
   "outputs": [],
   "source": [
    "comidas = [\"arepa\", \"ajiaco\", \"bandeja\"]\n",
    "comidas.append(\"sancocho\")\n",
    "print(\"Lista:\", comidas)\n",
    "\n",
    "punto = (10, 20)\n",
    "print(\"Tupla:\", punto[0], punto[1])\n",
    "\n",
    "persona = {\"nombre\": \"Ada\", \"edad\": 28, \"ciudad\": \"Bogotá\"}\n",
    "persona[\"edad\"] += 1\n",
    "for k, v in persona.items():\n",
    "    print(k, \"->\", v)\n"
   ]
  },
  {
   "cell_type": "markdown",
   "metadata": {},
   "source": [
    "### Ejercicios\n",
    "- E1: Lista de 5 números, calcula suma y promedio.\n",
    "- E2: Diccionario de 3 contactos (nombre→tel), consulta por nombre.\n",
    "- E3: Convierte lista de pares `(clave, valor)` en `dict` y recórrelo.\n",
    "\n",
    "### Reto extra\n",
    "**Inventario simple**: lista de dicts con `{\"producto\",\"precio\",\"stock\"}`. Muestra:\n",
    "- Total del inventario.\n",
    "- Producto más caro.\n"
   ]
  },
  {
   "cell_type": "markdown",
   "id": "e1e665b1",
   "metadata": {},
   "source": [
    "#### Ejercicio 1"
   ]
  },
  {
   "cell_type": "code",
   "execution_count": 1,
   "id": "6624efaa",
   "metadata": {},
   "outputs": [
    {
     "name": "stdout",
     "output_type": "stream",
     "text": [
      "27 5.4\n"
     ]
    }
   ],
   "source": [
    "nums = [4, 7, 2, 9, 5]\n",
    "total = sum(nums)\n",
    "avg = total / len(nums)\n",
    "print(total, avg)"
   ]
  },
  {
   "cell_type": "markdown",
   "id": "ec46682b",
   "metadata": {},
   "source": [
    "#### Ejercicio 2"
   ]
  },
  {
   "cell_type": "code",
   "execution_count": 2,
   "id": "4f07e738",
   "metadata": {},
   "outputs": [
    {
     "name": "stdout",
     "output_type": "stream",
     "text": [
      "No encontrado\n"
     ]
    }
   ],
   "source": [
    "contacts = {\"Ana\": \"123\", \"Luis\": \"456\", \"Sofi\": \"789\"}\n",
    "name = input()\n",
    "print(contacts.get(name, \"No encontrado\"))"
   ]
  },
  {
   "cell_type": "markdown",
   "id": "5e2b1ded",
   "metadata": {},
   "source": [
    "#### Ejercicio 3"
   ]
  },
  {
   "cell_type": "code",
   "execution_count": 3,
   "id": "62e79cc1",
   "metadata": {},
   "outputs": [
    {
     "name": "stdout",
     "output_type": "stream",
     "text": [
      "a 1\n",
      "b 2\n",
      "c 3\n"
     ]
    }
   ],
   "source": [
    "pairs = [(\"a\", 1), (\"b\", 2), (\"c\", 3)]\n",
    "d = dict(pairs)\n",
    "for k, v in d.items():\n",
    "    print(k, v)"
   ]
  },
  {
   "cell_type": "markdown",
   "id": "e9f9c707",
   "metadata": {},
   "source": [
    "### Ejercicio extra"
   ]
  },
  {
   "cell_type": "code",
   "execution_count": 4,
   "id": "cce73349",
   "metadata": {},
   "outputs": [
    {
     "name": "stdout",
     "output_type": "stream",
     "text": [
      "Primer producto: pan\n",
      "Precio del pan: 2000\n",
      "Productos caros: [{'producto': 'leche', 'precio': 3500, 'stock': 5}, {'producto': 'queso', 'precio': 8000, 'stock': 2}]\n",
      "Nombres caros: ['leche', 'queso']\n",
      "Total inventario: 53500\n",
      "Más caro: queso\n"
     ]
    }
   ],
   "source": [
    "inv = [\n",
    "    {\"producto\": \"pan\", \"precio\": 2000, \"stock\": 10},\n",
    "    {\"producto\": \"leche\", \"precio\": 3500, \"stock\": 5},\n",
    "    {\"producto\": \"queso\", \"precio\": 8000, \"stock\": 2}\n",
    "]\n",
    "\n",
    "print(\"Primer producto:\", inv[0][\"producto\"])\n",
    "print(\"Precio del pan:\", inv[0][\"precio\"])\n",
    "\n",
    "\n",
    "caros = [x for x in inv if x[\"precio\"] > 3000]\n",
    "print(\"Productos caros:\", caros)\n",
    "\n",
    "nombres_caros = [x[\"producto\"] for x in inv if x[\"precio\"] > 3000]\n",
    "print(\"Nombres caros:\", nombres_caros)\n",
    "\n",
    "total = sum(x[\"precio\"] * x[\"stock\"] for x in inv)\n",
    "caro = max(inv, key=lambda x: x[\"precio\"])\n",
    "print(\"Total inventario:\", total)\n",
    "print(\"Más caro:\", caro[\"producto\"])"
   ]
  }
 ],
 "metadata": {
  "kernelspec": {
   "display_name": "Python 3",
   "language": "python",
   "name": "python3"
  },
  "language_info": {
   "codemirror_mode": {
    "name": "ipython",
    "version": 3
   },
   "file_extension": ".py",
   "mimetype": "text/x-python",
   "name": "python",
   "nbconvert_exporter": "python",
   "pygments_lexer": "ipython3",
   "version": "3.13.3"
  }
 },
 "nbformat": 4,
 "nbformat_minor": 5
}
