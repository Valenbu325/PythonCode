{
 "cells": [
  {
   "cell_type": "markdown",
   "metadata": {},
   "source": [
    "# 2) Tipos de datos y variables\n",
    "\n",
    "## ¿Qué son?\n",
    "Los **tipos** definen la clase de datos (entero, flotante, texto, booleano). Las **variables** son nombres que apuntan a valores en memoria.\n",
    "\n",
    "## ¿Para qué se usan?\n",
    "Para **representar y transformar información**. Python es *tipado dinámico*: el tipo se asocia al valor, no al nombre.\n",
    "\n",
    "## Tipos básicos\n",
    "- `int`, `float`, `str`, `bool`\n",
    "- Mutabilidad: `str` es inmutable, `list` es mutable.\n",
    "- Conversión de tipos: `int(\"42\")`, `float(\"3.14\")`, `str(99)`.\n"
   ]
  },
  {
   "cell_type": "code",
   "execution_count": 2,
   "metadata": {},
   "outputs": [
    {
     "name": "stdout",
     "output_type": "stream",
     "text": [
      "<class 'int'> <class 'float'> <class 'str'> <class 'bool'>\n",
      "Ada mide 1.72 m y tiene 28 años. ¿Estudia? True\n"
     ]
    }
   ],
   "source": [
    "edad = 28\n",
    "altura = 1.72\n",
    "nombre = \"Ada\"\n",
    "es_estudiante = True\n",
    "\n",
    "print(type(edad), type(altura), type(nombre), type(es_estudiante))\n",
    "print(f\"{nombre} mide {altura} m y tiene {edad} años. ¿Estudia? {es_estudiante}\")\n"
   ]
  },
  {
   "cell_type": "markdown",
   "metadata": {},
   "source": [
    "### Ejercicios\n",
    "- E1: Declara tres variables de distintos tipos y muéstralas con su tipo.\n",
    "- E2: Convierte `\"99\"` a entero y súmalo con 1.\n",
    "- E3: Pide por `input()` nombre y edad, y muestra un mensaje formateado.\n",
    "\n",
    "### Reto extra\n",
    "Calcula el **IMC**: pide peso (kg) y altura (m), imprime el resultado con dos decimales.\n"
   ]
  },
  {
   "cell_type": "markdown",
   "id": "afc3ac50",
   "metadata": {},
   "source": [
    "### Ejercicio 1"
   ]
  },
  {
   "cell_type": "code",
   "execution_count": 3,
   "id": "414392ab",
   "metadata": {},
   "outputs": [
    {
     "name": "stdout",
     "output_type": "stream",
     "text": [
      "Variables y sus tipos:\n",
      "mi_numero = 42 -> tipo: <class 'int'>\n",
      "mi_decimal = 3.14159 -> tipo: <class 'float'>\n",
      "mi_texto = 'Hola Python' -> tipo: <class 'str'>\n",
      "mi_booleano = False -> tipo: <class 'bool'>\n"
     ]
    }
   ],
   "source": [
    "\n",
    "mi_numero = 42\n",
    "mi_decimal = 3.14159\n",
    "mi_texto = \"Hola Python\"\n",
    "mi_booleano = False\n",
    "\n",
    "print(\"Variables y sus tipos:\")\n",
    "print(f\"mi_numero = {mi_numero} -> tipo: {type(mi_numero)}\")\n",
    "print(f\"mi_decimal = {mi_decimal} -> tipo: {type(mi_decimal)}\")\n",
    "print(f\"mi_texto = '{mi_texto}' -> tipo: {type(mi_texto)}\")\n",
    "print(f\"mi_booleano = {mi_booleano} -> tipo: {type(mi_booleano)}\")"
   ]
  },
  {
   "cell_type": "markdown",
   "id": "c07c0e27",
   "metadata": {},
   "source": [
    "### Ejercicio 2"
   ]
  },
  {
   "cell_type": "code",
   "execution_count": null,
   "id": "2104ce91",
   "metadata": {},
   "outputs": [
    {
     "name": "stdout",
     "output_type": "stream",
     "text": [
      "Texto original: '99' (tipo: <class 'str'>)\n",
      "Convertido a entero: 99 (tipo: <class 'int'>)\n",
      "Resultado de 99 + 1 = 100\n"
     ]
    },
    {
     "name": "stdout",
     "output_type": "stream",
     "text": [
      "Texto original: '99' (tipo: <class 'str'>)\n",
      "Convertido a entero: 99 (tipo: <class 'int'>)\n",
      "Resultado de 99 + 1 = 100\n"
     ]
    }
   ],
   "source": [
    "\n",
    "numero_texto = \"99\"\n",
    "numero_entero = int(numero_texto)\n",
    "resultado = numero_entero + 1\n",
    "\n",
    "print(f\"Texto original: '{numero_texto}' (tipo: {type(numero_texto)})\")\n",
    "print(f\"Convertido a entero: {numero_entero} (tipo: {type(numero_entero)})\")\n",
    "print(f\"Resultado de {numero_entero} + 1 = {resultado}\")"
   ]
  },
  {
   "cell_type": "markdown",
   "id": "c655c774",
   "metadata": {},
   "source": [
    "### Ejercicio 3"
   ]
  },
  {
   "cell_type": "code",
   "execution_count": null,
   "id": "73aba78c",
   "metadata": {},
   "outputs": [
    {
     "name": "stdout",
     "output_type": "stream",
     "text": [
      "Hola andres, tienes 2 años.\n",
      "El próximo año tendrás 3 años.\n"
     ]
    }
   ],
   "source": [
    "\n",
    "nombre = input(\"¿Cuál es tu nombre? \")\n",
    "edad = input(\"¿Cuántos años tienes? \")\n",
    "\n",
    "edad_numerica = int(edad)\n",
    "\n",
    "print(f\"Hola {nombre}, tienes {edad_numerica} años.\")\n",
    "print(f\"El próximo año tendrás {edad_numerica + 1} años.\")"
   ]
  },
  {
   "cell_type": "markdown",
   "id": "48622a86",
   "metadata": {},
   "source": [
    "### Ejericico Extra\n"
   ]
  },
  {
   "cell_type": "code",
   "execution_count": null,
   "id": "399ea51d",
   "metadata": {},
   "outputs": [],
   "source": [
    "\n",
    "print(\"=== Calculadora de IMC ===\")\n",
    "\n",
    "peso = input(\"Ingresa tu peso en kg: \")\n",
    "altura = input(\"Ingresa tu altura en metros (ej: 1.75): \")\n",
    "\n",
    "\n",
    "peso_num = float(peso)\n",
    "altura_num = float(altura)\n",
    "\n",
    "\n",
    "imc = peso_num / (altura_num ** 2)\n",
    "\n",
    "\n",
    "print(f\"\\nTus datos:\")\n",
    "print(f\"Peso: {peso_num} kg\")\n",
    "print(f\"Altura: {altura_num} m\")\n",
    "print(f\"Tu IMC es: {imc:.2f}\")\n",
    "\n",
    "if imc < 18.5:\n",
    "    categoria = \"Bajo peso\"\n",
    "elif imc < 25:\n",
    "    categoria = \"Peso normal\"\n",
    "elif imc < 30:\n",
    "    categoria = \"Sobrepeso\"\n",
    "else:\n",
    "    categoria = \"Obesidad\"\n",
    "\n",
    "print(f\"Categoría: {categoria}\")"
   ]
  }
 ],
 "metadata": {
  "kernelspec": {
   "display_name": "Python 3",
   "language": "python",
   "name": "python3"
  },
  "language_info": {
   "codemirror_mode": {
    "name": "ipython",
    "version": 3
   },
   "file_extension": ".py",
   "mimetype": "text/x-python",
   "name": "python",
   "nbconvert_exporter": "python",
   "pygments_lexer": "ipython3",
   "version": "3.13.3"
  }
 },
 "nbformat": 4,
 "nbformat_minor": 5
}
