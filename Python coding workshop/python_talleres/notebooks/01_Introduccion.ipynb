{
 "cells": [
  {
   "cell_type": "markdown",
   "metadata": {},
   "source": [
    "# 1) Introducción y *Hola, mundo*\n",
    "\n",
    "## ¿Qué es Python?\n",
    "Python es un **lenguaje de programación de propósito general**, interpretado y con sintaxis clara. Destaca por su legibilidad y una batería estándar amplia.\n",
    "\n",
    "## ¿Para qué se usa?\n",
    "- Scripts y automatización\n",
    "- Ciencia de datos y aprendizaje automático\n",
    "- Desarrollo web, APIs y microservicios\n",
    "- Computación científica, prototipado rápido, educación\n",
    "\n",
    "## Ideas clave\n",
    "- **REPL** (consola interactiva) y **scripts** (`.py`).\n",
    "- **Indentación** significativa: los bloques se definen por sangría.\n",
    "- Comunidad enorme y ecosistema de librerías.\n"
   ]
  },
  {
   "cell_type": "markdown",
   "metadata": {},
   "source": [
    "## Taller — Paso a paso\n",
    "1. Crea un archivo `hola.py` con un `print`.\n",
    "2. Ejecútalo desde la terminal (o usa el botón *Run* en el notebook).\n",
    "3. Agrega expresiones aritméticas y múltiples impresiones.\n"
   ]
  },
  {
   "cell_type": "code",
   "execution_count": 1,
   "metadata": {},
   "outputs": [
    {
     "name": "stdout",
     "output_type": "stream",
     "text": [
      "¡Hola, Python!\n",
      "2 + 2 = 4\n"
     ]
    }
   ],
   "source": [
    "# Tu primer programa\n",
    "print(\"¡Hola, Python!\")\n",
    "print(\"2 + 2 =\", 2 + 2)\n"
   ]
  },
  {
   "cell_type": "markdown",
   "metadata": {},
   "source": [
    "### Ejercicios guiados\n",
    "- E1: Imprime tu nombre y ciudad.\n",
    "- E2: Imprime tres líneas usando `\\n`.\n",
    "- E3: Crea una variable `hoy` con la fecha actual formateada.\n",
    "\n",
    "### Reto extra\n",
    "Dibuja un marco simple con caracteres y un saludo en el centro.\n"
   ]
  },
  {
   "cell_type": "code",
   "execution_count": 10,
   "metadata": {},
   "outputs": [
    {
     "name": "stdout",
     "output_type": "stream",
     "text": [
      "Hoy es: 2025-09-04\n"
     ]
    }
   ],
   "source": [
    "# Pista para E3 (no es obligatorio usarlo aquí)\n",
    "\n",
    "\n",
    "from datetime import datetime\n",
    "hoy = datetime.now().strftime(\"%Y-%m-%d\")\n",
    "print(\"Hoy es:\", hoy)\n"
   ]
  },
  {
   "cell_type": "markdown",
   "id": "9cad151c",
   "metadata": {},
   "source": [
    "#### Ejercicio 1"
   ]
  },
  {
   "cell_type": "code",
   "execution_count": 12,
   "id": "ba176ac1",
   "metadata": {},
   "outputs": [
    {
     "name": "stdout",
     "output_type": "stream",
     "text": [
      "Nuestros nombres son Valentina y Andres\n",
      "Nuestra ciudad es Bogota\n"
     ]
    }
   ],
   "source": [
    "print('Nuestros nombres son Valentina y Andres')\n",
    "print('Nuestra ciudad es Bogota')\n",
    "\n"
   ]
  },
  {
   "cell_type": "markdown",
   "id": "c4dc187e",
   "metadata": {},
   "source": [
    "#### Ejercicio 2"
   ]
  },
  {
   "cell_type": "code",
   "execution_count": 14,
   "id": "476f0772",
   "metadata": {},
   "outputs": [
    {
     "name": "stdout",
     "output_type": "stream",
     "text": [
      "Esta es la primera linea. \n",
      "Esta podria ser la segunda. \n",
      "Y esta la tercera. \n"
     ]
    }
   ],
   "source": [
    "print(\"Esta es la primera linea. \\nEsta podria ser la segunda. \\nY esta la tercera. \")"
   ]
  },
  {
   "cell_type": "markdown",
   "id": "29a41f79",
   "metadata": {},
   "source": [
    "#### Ejercicio 3"
   ]
  },
  {
   "cell_type": "code",
   "execution_count": 16,
   "id": "9f0886ef",
   "metadata": {},
   "outputs": [
    {
     "name": "stdout",
     "output_type": "stream",
     "text": [
      "Hoy es: 04-09-2025\n"
     ]
    }
   ],
   "source": [
    "from datetime import datetime\n",
    "hoy = datetime.now().strftime(\"%d-%m-%Y\")\n",
    "print(\"Hoy es:\", hoy)"
   ]
  }
 ],
 "metadata": {
  "kernelspec": {
   "display_name": ".venv (3.10.6)",
   "language": "python",
   "name": "python3"
  },
  "language_info": {
   "codemirror_mode": {
    "name": "ipython",
    "version": 3
   },
   "file_extension": ".py",
   "mimetype": "text/x-python",
   "name": "python",
   "nbconvert_exporter": "python",
   "pygments_lexer": "ipython3",
   "version": "3.10.6"
  }
 },
 "nbformat": 4,
 "nbformat_minor": 5
}
